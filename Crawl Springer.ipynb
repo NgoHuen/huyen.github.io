{
 "cells": [
  {
   "cell_type": "code",
   "execution_count": 235,
   "metadata": {},
   "outputs": [],
   "source": [
    "\n",
    "import pandas as pd\n",
    "from bs4 import BeautifulSoup\n",
    "from selenium import webdriver\n",
    "from selenium.common.exceptions import NoSuchElementException, ElementNotInteractableException\n",
    "from selenium.webdriver.common.by import By\n",
    "from selenium.webdriver.chrome.service import Service\n",
    "import os\n",
    "from time import sleep\n",
    "import datetime\n",
    "from selenium import webdriver\n",
    "from selenium.webdriver.chrome.service import Service as ChromeService\n",
    "from webdriver_manager.chrome import ChromeDriverManager\n",
    "from selenium.webdriver.support.ui import WebDriverWait\n",
    "from selenium.webdriver.support import expected_conditions as EC\n",
    "from tqdm import tqdm\n"
   ]
  },
  {
   "cell_type": "code",
   "execution_count": 236,
   "metadata": {},
   "outputs": [],
   "source": [
    "#running chrome\n",
    "driver = webdriver.Chrome(service=ChromeService(ChromeDriverManager().install()))\n",
    "driver.get(\"https://link.springer.com/journals/a/1\")"
   ]
  },
  {
   "cell_type": "code",
   "execution_count": 237,
   "metadata": {},
   "outputs": [],
   "source": [
    "link_a = 'https://link.springer.com/journals/a/1'"
   ]
  },
  {
   "cell_type": "code",
   "execution_count": 238,
   "metadata": {},
   "outputs": [],
   "source": [
    "\n",
    "link_alphabet = []\n",
    "import numpy as np\n",
    "link_alphabet.append(link_a)\n",
    "elem = driver.find_elements(By.CLASS_NAME, 'c-atoz-navigation__item')\n",
    "for l in elem:\n",
    "    linking = l.find_elements(By.TAG_NAME, 'a')\n",
    "    for a in linking:\n",
    "        link_alphabet.append(str(a.get_attribute('href')))    "
   ]
  },
  {
   "cell_type": "code",
   "execution_count": 239,
   "metadata": {},
   "outputs": [
    {
     "name": "stdout",
     "output_type": "stream",
     "text": [
      "['https://link.springer.com/journals/a/1', 'https://link.springer.com/journals/b/1', 'https://link.springer.com/journals/c/1', 'https://link.springer.com/journals/d/1', 'https://link.springer.com/journals/e/1', 'https://link.springer.com/journals/f/1', 'https://link.springer.com/journals/g/1', 'https://link.springer.com/journals/h/1', 'https://link.springer.com/journals/i/1', 'https://link.springer.com/journals/j/1', 'https://link.springer.com/journals/k/1', 'https://link.springer.com/journals/l/1', 'https://link.springer.com/journals/m/1', 'https://link.springer.com/journals/n/1', 'https://link.springer.com/journals/o/1', 'https://link.springer.com/journals/p/1', 'https://link.springer.com/journals/q/1', 'https://link.springer.com/journals/r/1', 'https://link.springer.com/journals/s/1', 'https://link.springer.com/journals/t/1', 'https://link.springer.com/journals/u/1', 'https://link.springer.com/journals/v/1', 'https://link.springer.com/journals/w/1', 'https://link.springer.com/journals/x/1', 'https://link.springer.com/journals/y/1', 'https://link.springer.com/journals/z/1', 'https://link.springer.com/journals/0/1']\n"
     ]
    }
   ],
   "source": [
    "print(link_alphabet)"
   ]
  },
  {
   "cell_type": "code",
   "execution_count": 240,
   "metadata": {},
   "outputs": [],
   "source": [
    "for i in range(len(link_alphabet)):\n",
    "    driver.get(link_alphabet[i])\n",
    "    try:\n",
    "        elem_inside = driver.find_elements(By.CLASS_NAME, 'c-pagination-listed__item')\n",
    "        total_page = (len(elem_inside)-4)/2\n",
    "        number_of_page = np.arange(1,total_page+1)\n",
    "        for number in number_of_page:\n",
    "            link_alphabet.append(link_alphabet[i][:-1] + str(int(number)))\n",
    "    except NoSuchElementException:\n",
    "        pass\n",
    "               \n",
    "link_alphabet = list(set(link_alphabet))       "
   ]
  },
  {
   "cell_type": "code",
   "execution_count": 241,
   "metadata": {},
   "outputs": [
    {
     "name": "stdout",
     "output_type": "stream",
     "text": [
      "['https://link.springer.com/journals/n/1', 'https://link.springer.com/journals/a/2', 'https://link.springer.com/journals/j/2', 'https://link.springer.com/journals/a/1', 'https://link.springer.com/journals/u/1', 'https://link.springer.com/journals/b/2', 'https://link.springer.com/journals/f/1', 'https://link.springer.com/journals/j/3', 'https://link.springer.com/journals/k/1', 'https://link.springer.com/journals/o/1', 'https://link.springer.com/journals/s/1', 'https://link.springer.com/journals/p/2', 'https://link.springer.com/journals/j/1', 'https://link.springer.com/journals/z/1', 'https://link.springer.com/journals/i/1', 'https://link.springer.com/journals/c/1', 'https://link.springer.com/journals/e/2', 'https://link.springer.com/journals/c/2', 'https://link.springer.com/journals/y/1', 'https://link.springer.com/journals/x/1', 'https://link.springer.com/journals/l/1', 'https://link.springer.com/journals/v/1', 'https://link.springer.com/journals/h/1', 'https://link.springer.com/journals/t/1', 'https://link.springer.com/journals/p/1', 'https://link.springer.com/journals/r/1', 'https://link.springer.com/journals/m/2', 'https://link.springer.com/journals/q/1', 'https://link.springer.com/journals/m/1', 'https://link.springer.com/journals/j/4', 'https://link.springer.com/journals/g/1', 'https://link.springer.com/journals/e/1', 'https://link.springer.com/journals/d/1', 'https://link.springer.com/journals/0/1', 'https://link.springer.com/journals/b/1', 'https://link.springer.com/journals/i/2', 'https://link.springer.com/journals/w/1']\n"
     ]
    }
   ],
   "source": [
    "print(link_alphabet)"
   ]
  },
  {
   "cell_type": "code",
   "execution_count": 242,
   "metadata": {},
   "outputs": [],
   "source": [
    "link_of_artical = []          \n",
    "for alphabet in link_alphabet:\n",
    "    driver.get(alphabet)\n",
    "    elems = driver.find_elements(By.CLASS_NAME, 'c-atoz-list__item')\n",
    "    for elem in elems:\n",
    "        link_artical = elem.find_elements(By.TAG_NAME, 'a')\n",
    "        for a in link_artical:\n",
    "            if a.get_attribute('href') not in link_of_artical:\n",
    "                link_of_artical.append(a.get_attribute('href'))"
   ]
  },
  {
   "cell_type": "code",
   "execution_count": 244,
   "metadata": {},
   "outputs": [
    {
     "data": {
      "text/plain": [
       "3839"
      ]
     },
     "execution_count": 244,
     "metadata": {},
     "output_type": "execute_result"
    }
   ],
   "source": [
    "len(link_of_artical)"
   ]
  },
  {
   "cell_type": "code",
   "execution_count": 245,
   "metadata": {},
   "outputs": [
    {
     "name": "stderr",
     "output_type": "stream",
     "text": [
      "100%|██████████| 3839/3839 [4:12:10<00:00,  3.94s/it]   \n"
     ]
    }
   ],
   "source": [
    "paper_titles = []\n",
    "Impact_factor = []\n",
    "ISSN = []\n",
    "eISSN = []\n",
    "\n",
    "\n",
    "for url in tqdm(link_of_artical):\n",
    "    sleep(2)\n",
    "    try:\n",
    "        driver.get(url)\n",
    "    except Exception:\n",
    "        pass\n",
    "    try:\n",
    "        paper_titles.append(driver.find_element(\"xpath\", '//*[@id=\"journalTitle\"]/a').text)\n",
    "    except Exception:\n",
    "        paper_titles.append('')\n",
    "\n",
    "    try:\n",
    "        Impact_factor.append(driver.find_element(\"xpath\", '//*[@id=\"main-content\"]/div/div/div[1]/main/section/section/dl[1]/dd[1]').text)\n",
    "    except Exception:\n",
    "        Impact_factor.append('')\n",
    "    try:\n",
    "        ISSN.append(driver.find_element(\"xpath\", '//*[@id=\"main-content\"]/div/section/div/div/dl/div[1]/div[2]/dd').text)\n",
    "    except Exception:\n",
    "        ISSN.append('')\n",
    " \n",
    "    try:\n",
    "        eISSN.append(driver.find_element(\"xpath\", '//*[@id=\"main-content\"]/div/section/div/div/dl/div[1]/div[1]/dd').text)\n",
    "    except Exception:\n",
    "        eISSN.append('')\n",
    "    \n",
    "\n",
    "\n"
   ]
  },
  {
   "cell_type": "code",
   "execution_count": 246,
   "metadata": {},
   "outputs": [],
   "source": [
    "df1 = pd.DataFrame(list(zip(paper_titles,ISSN,eISSN,Impact_factor)),\n",
    "                  columns=['paper_titles','ISSN','eISSN','Impact_factor'])"
   ]
  },
  {
   "cell_type": "code",
   "execution_count": 248,
   "metadata": {},
   "outputs": [],
   "source": [
    "df1.to_csv('CrawlSpringer.csv')"
   ]
  }
 ],
 "metadata": {
  "kernelspec": {
   "display_name": "Python 3",
   "language": "python",
   "name": "python3"
  },
  "language_info": {
   "codemirror_mode": {
    "name": "ipython",
    "version": 3
   },
   "file_extension": ".py",
   "mimetype": "text/x-python",
   "name": "python",
   "nbconvert_exporter": "python",
   "pygments_lexer": "ipython3",
   "version": "3.11.6"
  },
  "orig_nbformat": 4
 },
 "nbformat": 4,
 "nbformat_minor": 2
}
